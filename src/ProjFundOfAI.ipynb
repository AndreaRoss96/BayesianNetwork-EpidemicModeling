{
 "cells": [
  {
   "cell_type": "markdown",
   "metadata": {},
   "source": [
    "# A Bayesian Network to model the effects of an epidemic on a nation\n",
    "### Student: Andrea Rossolini <br> Fundamentals of Artificial Intelligence and Knowledge Representation (mod. 3)\n",
    "\n",
    "In the following notebook I developed a highly simplified Bayesian network to model the main consequence of a pandemic breakout in a nation, based on its population, density, GDP and so on.\n",
    "\n",
    "The network is based on the famous SIR model, each letter denotes a state of individuals in a population: \n",
    "<ul>\n",
    "    <li>S: number of susceptible</li>\n",
    "    <li>I: number of infected</li>\n",
    "    <li>R: number of removed</li>\n",
    "</ul>\n",
    "\n",
    "In this standard model is possible to extend the last state in <i>recovered</i> and <i>dead</i>, in this way in the network can be enrich with other concepts(???).\n",
    "\n",
    "Such a model should be represented with a probabilistic reasoning model over time, so I decided to model the consequence of a pandemic after defined period of time (let say a month).\n",
    "\n",
    "\n",
    "\n",
    "\n",
    "Note; say that I am thinking about COVID19"
   ]
  },
  {
   "cell_type": "markdown",
   "metadata": {},
   "source": [
    "In this project is used the library <b>pgmpy</b>.<br>\n",
    "By the fact there not exists data from which pgmpy can learn to build the network, I created some artificious values, while other are taken from differente sources (see at the bottom).\n",
    "To simplify this work some continous variables had been devided in group."
   ]
  },
  {
   "cell_type": "code",
   "execution_count": 105,
   "metadata": {},
   "outputs": [],
   "source": [
    "import numpy as np\n",
    "from scipy.stats import beta\n",
    "from scipy.integrate import simps\n",
    "from pgmpy.models import BayesianModel\n",
    "from pgmpy.factors.discrete import TabularCPD\n",
    "from pgmpy.inference import VariableElimination"
   ]
  },
  {
   "cell_type": "markdown",
   "metadata": {},
   "source": [
    "Starting from the SIRD model explained above we can infer different features.\n",
    "....\n",
    "<br>\n",
    "<ul>\n",
    "    <li><b>Dens</b> = Density (pop./km^2):</li>\n",
    "        <ul>\n",
    "            <li>very low (< 30 e.g. Canada) 48/195</li>\n",
    "            <li>low ([30,100] e.g. Brazil)  64/195</li>\n",
    "            <li>Medium ([100,300] e.g. Italy) 55/195</li>\n",
    "            <li>High ([300,600] e.g. Netherlands) 18/195</li>\n",
    "            <li>very high (> 600 e.g. Bangladesh) 10/195</li>\n",
    "        </ul>\n",
    "    <li><b>Pop</b> = population\n",
    "        <ul>\n",
    "            <li>very low (< 1,000,000 e.g. Luxemburg) 39/195</li>\n",
    "            <li>low ([1, 10] million e.g. Austria) 66/195</li>\n",
    "            <li>medium ([10, 100] million e.g. Italy) 76/195</li>\n",
    "            <li>High ([100m, 1b]  e.g. Brazil) 12/195</li>\n",
    "            <li>Very High ([> 1b] e.g. India) 2/195</li>\n",
    "        </ul>\n",
    "    </li>\n",
    "    <li><b>RP</b>  = Restriction Policies\n",
    "        <ul>\n",
    "            <li>None   (e.g. herd immunity)</li>\n",
    "            <li>Light  (e.g. mask mandatory in public spaces, ban on gathering)</li>\n",
    "            <li>Medium (e.g. Lockdown with exceptions for workers, travel restrictions)</li>\n",
    "            <li>Severe (e.g. Lockdown including productive activities, country isolation)</li>\n",
    "            <li>Extreme (e.g. Martial law)</li>\n",
    "        </ul>\n",
    "    </li>\n",
    "    <li><b>GDP</b> = Gross Domesti product</li>\n",
    "    <ul>\n",
    "        <li>Low  (< 100b e.g. Luxemburg) 131/165</li>\n",
    "        <li>Medium ([100b, 1t] e.g. Netherlands) 48/195</li>\n",
    "        <li>High (> 1t e.g. Italy) 16/195</li>\n",
    "    </ul>\n",
    "    <li><b>S</b>  = Susceptible: percentage of population that can get sick (people cannot be susceptible for different reasons as immunity, life style, age ...)</li>\n",
    "    <ul>\n",
    "        <li>medium (at least 75% of population)</li>\n",
    "        <li>high (at least 90% \" \")</li>\n",
    "    </ul>\n",
    "    <li><b>Age</b> = Average Age</li>\n",
    "    <ul>\n",
    "        <li>young  (< 20) 40/230 </li>\n",
    "        <li>avg    ([20, 40]) 140/230</li>\n",
    "        <li>old    (> 40) 50/230</li>\n",
    "    </ul>\n",
    "    <li><b>I</b> = percentage of susceptibles Infected</li>\n",
    "    <ul>\n",
    "        <li> Low (< 0.3% e.g. Mongolia) </li>\n",
    "        <li> Medium ([0.3,0.8%] e.g. Italy)</li>\n",
    "        <li> High (>0.8% e.g. USA)</li>\n",
    "    </ul>\n",
    "    <li><b>HC</b> = Health Care system overall performances </li>\n",
    "    <ul>\n",
    "        <li>weak</li> <-- la probabilità è nel quadernino --!>\n",
    "        <li>strong</li>\n",
    "    </ul>\n",
    "    <li><b>De</b> = Percentage of deaths </li>\n",
    "    <ul>\n",
    "        <li>Low  (< 4% of infected died)</li> \n",
    "        <li>High (> 4% of infected died)</li>\n",
    "    </ul>\n",
    "    <li><b>Re</b> = Percentage of recovered </li>\n",
    "    <ul>\n",
    "        <li>Low  (< 50% of infected recovered)</li>\n",
    "        <li>High (> 50% of infected recovered)</li>\n",
    "    </ul>\n",
    "</ul>"
   ]
  },
  {
   "cell_type": "markdown",
   "metadata": {},
   "source": [
    "It is possible to define the network strucure according to the features defined above. In the following cells it is explained how the network was conceived.\n",
    "\n",
    "Using pgmpy we can simply wrote:"
   ]
  },
  {
   "cell_type": "code",
   "execution_count": 8,
   "metadata": {},
   "outputs": [],
   "source": [
    "model = BayesianModel([('Dens', 'I'), ('Pop', 'S'), ('GDP', 'RP'), ('GDP', 'HC'),\n",
    "                       ('RP', 'I'), ('S', 'I'), ('Age', 'De'), ('I', 'De'),\n",
    "                       ('I', 'Re'), ('HC', 'De'), ('HC', 'Re')])"
   ]
  },
  {
   "cell_type": "markdown",
   "metadata": {},
   "source": [
    "Now we must define the values for the conditional probability tables: <b> The numbers that we use are rather arbitrary guesses and we do not pretend them to be anyhow realistic.</b>\n",
    "<br>For the node without parents (density, population, GDP, average age of each country) is simple: I used the data from  [1], [2], [3], [4]."
   ]
  },
  {
   "cell_type": "code",
   "execution_count": 9,
   "metadata": {},
   "outputs": [],
   "source": [
    "# Defining CPD of nodes without parents\n",
    "den_cpd = TabularCPD(variable='Dens',variable_card=5, \n",
    "                    values=[[0.24615384615384617], [0.3282051282051282], [0.28205128205128205], [0.09230769230769231], [0.05128205128205128]],\n",
    "                    state_names={'Dens': ['Very_low', 'Low', 'Medium', 'High', 'Very_high']})\n",
    "pop_cpd = TabularCPD(variable='Pop',variable_card=5, \n",
    "                    values=[[0.2], [0.3384615384615385], [0.38974358974358975], [0.06153846153846154], [0.010256410256410256]],\n",
    "                    state_names={'Pop': ['Very_low', 'Low', 'Medium', 'High', 'Very_high']})\n",
    "gdp_cpd = TabularCPD(variable='GDP',variable_card=3, \n",
    "                    values=[[0.6717948717948717], [0.24615384615384617], [0.08205128205128205]],\n",
    "                    state_names={'GDP': ['Low', 'Medium', 'High']})\n",
    "age_cpd = TabularCPD(variable='Age',variable_card=3, \n",
    "                    values=[[0.17391304347826086], [0.6086956521739131], [0.21739130434782608]],\n",
    "                    state_names={'Age': ['Young', 'Avg', 'Old']})\n",
    "\n",
    "model.add_cpds(den_cpd, pop_cpd, gdp_cpd, age_cpd)"
   ]
  },
  {
   "cell_type": "markdown",
   "metadata": {},
   "source": [
    "In the following cell <i>Susceptible</i> and <i>Health Care system</i> and <i>Restriction Policies</i> are defined.\n",
    "The first one is infuenced only by the population and it has no other relation with other net's features.\n"
   ]
  },
  {
   "cell_type": "code",
   "execution_count": 15,
   "metadata": {},
   "outputs": [],
   "source": [
    "# Defining CPD of nodes with one parent\n",
    "sus_cpd = TabularCPD(variable='S',variable_card=2, \n",
    "                     values=[[0.3, 0.35, 0.4, 0.45, 0.50], [0.7, 0.65, 0.6, 0.55, 0.5]],\n",
    "                     evidence=['Pop'],\n",
    "                     evidence_card=[5],\n",
    "                     state_names={'S': ['Medium', 'High'],\n",
    "                                 'Pop': ['Very_low', 'Low', 'Medium', 'High', 'Very_high']})\n",
    "HC_cpd = TabularCPD(variable='HC',variable_card=2, \n",
    "                     values=[[0.83, 0.42, 0.05], [0.17, 0.58, 0.95]],\n",
    "                     evidence=['GDP'],\n",
    "                     evidence_card=[3],\n",
    "                     state_names={'HC': ['Weak', 'Strong'],\n",
    "                                 'GDP': ['Low', 'Medium', 'High']})\n",
    "RP_cpd = TabularCPD(variable='RP',variable_card=5,\n",
    "                     values=[[0.29, 0.21, 0.12], \n",
    "                             [0.32, 0.37, 0.28], \n",
    "                             [0.19, 0.26, 0.39], \n",
    "                             [0.11, 0.13, 0.205], \n",
    "                             [0.09, 0.03, 0.005]],\n",
    "                     evidence=['GDP'],\n",
    "                     evidence_card=[3],\n",
    "                     state_names={'RP': ['None', 'Light', 'Normal', 'Severe', 'Extreme'],\n",
    "                                 'GDP': ['Low', 'Medium', 'High']})\n",
    "\n",
    "model.add_cpds(sus_cpd, HC_cpd, RP_cpd)"
   ]
  },
  {
   "cell_type": "code",
   "execution_count": 135,
   "metadata": {
    "scrolled": false
   },
   "outputs": [
    {
     "name": "stdout",
     "output_type": "stream",
     "text": [
      "[3.0, 2.5, 2.0, 1.5, 1.5, 3.5, 3.0, 2.5, 2.0, 1.5, 4.5, 4.0, 3.5, 3.0, 2.5, 5.5, 5.0, 4.5, 4.0, 3.5, 6.0, 5.5, 5.0, 4.5, 4.0, 3.25, 2.75, 2.25, 1.75, 1.5, 3.75, 3.25, 2.75, 2.25, 1.75, 4.75, 4.25, 3.75, 3.25, 2.75, 5.75, 5.25, 4.75, 4.25, 3.75, 6.25, 5.75, 5.25, 4.75, 4.25]\n",
      "50\n",
      "1.5 - count 4\n",
      "1.75 - count 2\n",
      "2.0 - count 2\n",
      "2.25 - count 2\n",
      "2.5 - count 3\n",
      "2.75 - count 3\n",
      "3.0 - count 3\n",
      "3.25 - count 3\n",
      "3.5 - count 3\n",
      "3.75 - count 3\n",
      "4.0 - count 3\n",
      "4.25 - count 3\n",
      "4.5 - count 3\n",
      "4.75 - count 3\n",
      "5.0 - count 2\n",
      "5.25 - count 2\n",
      "5.5 - count 2\n",
      "5.75 - count 2\n",
      "6.0 - count 1\n",
      "6.25 - count 1\n"
     ]
    }
   ],
   "source": [
    "#CANCELLA\n",
    "S = [0.5, 0.75]\n",
    "Dens = [1.5, 2, 3, 4, 4.5]\n",
    "RP = [1, 0.5, 0, -0.5, -1]\n",
    "min_ = 1.5\n",
    "\n",
    "res = []\n",
    "for es in S :\n",
    "    for d in Dens:\n",
    "        for rp in RP:\n",
    "            tmp = es+d+rp\n",
    "            if tmp < min_ :\n",
    "                tmp=min_\n",
    "            res.append(tmp)\n",
    "print(res)\n",
    "print(len(res))\n",
    "res.sort()\n",
    "for n, elem in enumerate(res):\n",
    "    if n == 0 or elem != res[n-1] :\n",
    "        print(\"{0} - count {1}\".format(elem, res.count(elem)))"
   ]
  },
  {
   "cell_type": "code",
   "execution_count": 122,
   "metadata": {},
   "outputs": [
    {
     "data": {
      "image/png": "[encoded data removed]",
      "text/plain": [
       "<Figure size 432x288 with 1 Axes>"
      ]
     },
     "metadata": {
      "needs_background": "light"
     },
     "output_type": "display_data"
    },
    {
     "name": "stdout",
     "output_type": "stream",
     "text": [
      "[0.00000000e+00 1.24485088e-02 4.07187791e-02 8.04831586e-02\n",
      " 1.29411068e-01 1.85805245e-01 2.48305782e-01 3.15769534e-01\n",
      " 3.87208203e-01 4.61751981e-01 5.38626167e-01 6.17135123e-01\n",
      " 6.96650697e-01 7.76603527e-01 8.56476301e-01 9.35798395e-01\n",
      " 1.01414150e+00 1.09111597e+00 1.16636781e+00 1.23957598e+00\n",
      " 1.31045015e+00 1.37872869e+00 1.44417691e+00 1.50658540e+00\n",
      " 1.56576867e+00 1.62156379e+00 1.67382918e+00 1.72244356e+00\n",
      " 1.76730484e+00 1.80832923e+00 1.84545030e+00 1.87861814e+00\n",
      " 1.90779857e+00 1.93297238e+00 1.95413460e+00 1.97129380e+00\n",
      " 1.98447143e+00 1.99370122e+00 1.99902851e+00 2.00050967e+00\n",
      " 1.99821158e+00 1.99221098e+00 1.98259400e+00 1.96945561e+00\n",
      " 1.95289910e+00 1.93303556e+00 1.90998340e+00 1.88386787e+00\n",
      " 1.85482059e+00 1.82297902e+00 1.78848609e+00 1.75148965e+00\n",
      " 1.71214208e+00 1.67059981e+00 1.62702289e+00 1.58157455e+00\n",
      " 1.53442072e+00 1.48572967e+00 1.43567152e+00 1.38441780e+00\n",
      " 1.33214105e+00 1.27901438e+00 1.22521102e+00 1.17090389e+00\n",
      " 1.11626518e+00 1.06146589e+00 1.00667540e+00 9.52061025e-01\n",
      " 8.97787563e-01 8.44016844e-01 7.90907270e-01 7.38613348e-01\n",
      " 6.87285216e-01 6.37068165e-01 5.88102145e-01 5.40521262e-01\n",
      " 4.94453264e-01 4.50019015e-01 4.07331948e-01 3.66497501e-01\n",
      " 3.27612537e-01 2.90764735e-01 2.56031958e-01 2.23481585e-01\n",
      " 1.93169809e-01 1.65140893e-01 1.39426375e-01 1.16044205e-01\n",
      " 9.49978223e-02 7.62751276e-02 5.98473519e-02 4.56677784e-02\n",
      " 3.36702785e-02 2.37675993e-02 1.58493052e-02 9.77922342e-03\n",
      " 5.39212785e-03 2.48916985e-03 8.30995492e-04 1.25742514e-04]\n",
      "100\n"
     ]
    }
   ],
   "source": [
    "#CANCELLA\n",
    "from matplotlib import pyplot as plt \n",
    "from scipy.stats import beta\n",
    "\n",
    "b = 3.75\n",
    "a = 2.75\n",
    "\n",
    "x = np.arange(0.0, 1, 0.01)\n",
    "y = beta.pdf(x,a,b)\n",
    "plt.plot(x,y)\n",
    "plt.show()\n",
    "#x = np.random.beta(2.5,3.75,lim)\n",
    "print(y)\n",
    "print(len(y))"
   ]
  },
  {
   "cell_type": "code",
   "execution_count": 143,
   "metadata": {},
   "outputs": [
    {
     "name": "stdout",
     "output_type": "stream",
     "text": [
      "[0.286, 0.383, 0.502, 0.635, 0.635, 0.208, 0.286, 0.383, 0.502, 0.635, 0.105, 0.149, 0.208, 0.286, 0.383, 0.05, 0.073, 0.105, 0.149, 0.208, 0.034, 0.05, 0.073, 0.105, 0.149, 0.244, 0.332, 0.44, 0.567, 0.635, 0.176, 0.244, 0.332, 0.44, 0.567, 0.088, 0.125, 0.176, 0.244, 0.332, 0.041, 0.06, 0.088, 0.125, 0.176, 0.034, 0.041, 0.06, 0.088, 0.125]\n",
      "____________________________________________________________\n",
      "[0.567, 0.505, 0.418, 0.311, 0.311, 0.605, 0.567, 0.505, 0.418, 0.311, 0.622, 0.622, 0.605, 0.567, 0.505, 0.584, 0.608, 0.622, 0.622, 0.605, 0.553, 0.584, 0.608, 0.622, 0.622, 0.589, 0.539, 0.464, 0.367, 0.311, 0.616, 0.589, 0.539, 0.464, 0.367, 0.616, 0.624, 0.616, 0.589, 0.539, 0.569, 0.597, 0.616, 0.624, 0.616, 0.553, 0.569, 0.597, 0.616, 0.624]\n",
      "____________________________________________________________\n",
      "[0.118, 0.084, 0.055, 0.032, 0.032, 0.156, 0.118, 0.084, 0.055, 0.032, 0.242, 0.198, 0.156, 0.118, 0.084, 0.336, 0.289, 0.242, 0.198, 0.156, 0.383, 0.336, 0.289, 0.242, 0.198, 0.136, 0.1, 0.069, 0.043, 0.032, 0.176, 0.136, 0.1, 0.069, 0.043, 0.265, 0.22, 0.176, 0.136, 0.1, 0.359, 0.312, 0.265, 0.22, 0.176, 0.383, 0.359, 0.312, 0.265, 0.22]\n",
      "****************************************\n",
      "0.635\n",
      "0.624\n",
      "0.383\n",
      "****************************************\n",
      "0.034\n",
      "0.311\n",
      "0.032\n"
     ]
    }
   ],
   "source": [
    "from scipy.stats import beta\n",
    "\n",
    "S = [0.5, 0.75]\n",
    "Dens = [1.5, 2, 3, 4, 4.5]\n",
    "RP = [1, 0.5, 0, -0.5, -1]\n",
    "min_ = 1.5\n",
    "max_ = 6\n",
    "\n",
    "res = []\n",
    "for es in S :\n",
    "    for d in Dens:\n",
    "        for rp in RP:\n",
    "            tmp = es+d+rp\n",
    "            if tmp < min_ :\n",
    "                tmp=min_\n",
    "            if tmp > max_ :\n",
    "                tmp=max_\n",
    "            res.append(tmp)\n",
    "\n",
    "low, med, hig = [], [], []\n",
    "x = np.arange(0.0, 1, 0.01)\n",
    "b = 3.75\n",
    "for a in res :\n",
    "    y = beta.pdf(x,a,b)\n",
    "    low.append(round(simps(y[:34])/100, 3))\n",
    "    med.append(round(simps(y[34:67])/100, 3))\n",
    "    hig.append(round(simps(y[67:])/100, 3))\n",
    "    \n",
    "print(low)\n",
    "print('___'*20)\n",
    "print(med)\n",
    "print('___'*20)\n",
    "print(hig)\n",
    "print('**'*20)\n",
    "print(max(low))\n",
    "print(max(med))\n",
    "print(max(hig))\n",
    "print('**'*20)\n",
    "print(min(low))\n",
    "print(min(med))\n",
    "print(min(hig))"
   ]
  },
  {
   "cell_type": "markdown",
   "metadata": {},
   "source": [
    "### Not Reliable References\n",
    "<i>Wikipedia is not a reliable source, anyway, we just need indicative data.</i>\n",
    "\n",
    "\n",
    "<a href=\"https://en.wikipedia.org/wiki/List_of_countries_and_dependencies_by_population#Lists_of_countries_by_population\">[1] Wikipedia: List of countries by population</a>\n",
    "<br>\n",
    "<a href=\"https://en.wikipedia.org/wiki/List_of_countries_and_dependencies_by_population_density\">[2] Wikipedia: List of countries by density</a>\n",
    "<br>\n",
    "<a href=\"https://en.wikipedia.org/wiki/List_of_countries_by_GDP_(nominal)\">[3] Wikipedia: List of countries by GDP (nominal)</a>\n",
    "<br>\n",
    "<a href=\"https://en.wikipedia.org/wiki/List_of_countries_by_median_age\">[4] Wikipedia: List of countries by median age</a>\n",
    "\n",
    "### References\n",
    "\n",
    "<a name=\\\"first\\\"> [1] </a> [*U.S. Environmental Protection Agency - Greenhouse Gas Emissions*](https://www.epa.gov/ghgemissions/overview-greenhouse-gases)\\n,\n",
    "    \\n,\n",
    "    \"<a name=\\\"second\\\">[2]</a> [*Didem Cinar, Gulgun Kayakutlu - Scenario analysis using Bayesian networks: A case study in energy sector*](https://www.sciencedirect.com/science/article/pii/S0950705110000110)\\n\",\n",
    "    \"\\n\",\n",
    "    \"<a name=\\\"third\\\">[3]</a> [*World Bank Open Data*](https://data.worldbank.org/indicator)\""
   ]
  }
 ],
 "metadata": {
  "kernelspec": {
   "display_name": "Python 3.8.3 64-bit",
   "language": "python",
   "name": "python38364bitc3373c3530b34b2088c24ac2ba5e5401"
  },
  "language_info": {
   "codemirror_mode": {
    "name": "ipython",
    "version": 3
   },
   "file_extension": ".py",
   "mimetype": "text/x-python",
   "name": "python",
   "nbconvert_exporter": "python",
   "pygments_lexer": "ipython3",
   "version": "3.8.5"
  }
 },
 "nbformat": 4,
 "nbformat_minor": 4
}
